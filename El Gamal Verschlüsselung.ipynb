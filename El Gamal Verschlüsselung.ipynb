{
 "cells": [
  {
   "cell_type": "code",
   "execution_count": 2,
   "metadata": {
    "collapsed": false,
    "deletable": true,
    "editable": true
   },
   "outputs": [
    {
     "name": "stdout",
     "output_type": "stream",
     "text": [
      "public key b: 615978758\n",
      "z1: 86342170\n",
      "z2: 711819398\n"
     ]
    }
   ],
   "source": [
    "# encryption\n",
    "\n",
    "def get_b(g, a, p):\n",
    "    return g.powermod(a, p)\n",
    "\n",
    "def get_z1(g, k, p):\n",
    "    return g.powermod(k, p)\n",
    "\n",
    "def get_z2(message, b, k, p):\n",
    "    return (message%p * b.powermod(k, p))%p\n",
    "\n",
    "p = 2038074743\n",
    "g = 5\n",
    "a = 101 # < p - 1\n",
    "message = 11111\n",
    "k = 10301507\n",
    "\n",
    "b = get_b(g, a, p)\n",
    "print('public key b: %s' % b)\n",
    "\n",
    "z1 = get_z1(g, k, p)\n",
    "print('z1: %s' % z1)\n",
    "z2 = get_z2(message, b, k, p)\n",
    "print('z2: %s' % z2)"
   ]
  },
  {
   "cell_type": "code",
   "execution_count": null,
   "metadata": {
    "collapsed": true,
    "deletable": true,
    "editable": true
   },
   "outputs": [],
   "source": [
    "# decryption\n",
    "\n",
    "\n",
    "\n",
    "\n",
    "c1 = 924750081\n",
    "c2 = 1810159918"
   ]
  }
 ],
 "metadata": {
  "kernelspec": {
   "display_name": "SageMath 8.1",
   "language": "",
   "name": "sagemath"
  },
  "language_info": {
   "codemirror_mode": {
    "name": "ipython",
    "version": 2
   },
   "file_extension": ".py",
   "mimetype": "text/x-python",
   "name": "python",
   "nbconvert_exporter": "python",
   "pygments_lexer": "ipython2",
   "version": "2.7.14"
  }
 },
 "nbformat": 4,
 "nbformat_minor": 2
}
