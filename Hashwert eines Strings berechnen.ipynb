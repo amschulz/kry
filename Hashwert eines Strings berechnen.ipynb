{
 "cells": [
  {
   "cell_type": "code",
   "execution_count": 1,
   "metadata": {
    "collapsed": false,
    "deletable": true,
    "editable": true
   },
   "outputs": [
    {
     "name": "stdout",
     "output_type": "stream",
     "text": [
      "True\n",
      "False\n"
     ]
    }
   ],
   "source": [
    "import hashlib\n",
    "\n",
    "s1 = \"Hallo\"\n",
    "s2 = \" zusammen\"\n",
    "\n",
    "H = hashlib.sha224()\n",
    "H.update(s1)\n",
    "H.update(s2)\n",
    "h1 = H.hexdigest()\n",
    "\n",
    "H = hashlib.sha224()\n",
    "H.update('%s%s' % (s1, s2))\n",
    "h2 = H.hexdigest()\n",
    "\n",
    "H.update('%s%s' % (s1, s2))\n",
    "h3 = H.hexdigest()\n",
    "\n",
    "print(h1 == h2)\n",
    "print(h2 == h3)"
   ]
  },
  {
   "cell_type": "code",
   "execution_count": null,
   "metadata": {
    "collapsed": true,
    "deletable": true,
    "editable": true
   },
   "outputs": [],
   "source": []
  }
 ],
 "metadata": {
  "kernelspec": {
   "display_name": "SageMath 8.1",
   "language": "",
   "name": "sagemath"
  },
  "language_info": {
   "codemirror_mode": {
    "name": "ipython",
    "version": 2
   },
   "file_extension": ".py",
   "mimetype": "text/x-python",
   "name": "python",
   "nbconvert_exporter": "python",
   "pygments_lexer": "ipython2",
   "version": "2.7.14"
  }
 },
 "nbformat": 4,
 "nbformat_minor": 2
}
