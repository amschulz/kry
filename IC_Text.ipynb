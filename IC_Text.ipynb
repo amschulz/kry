{
 "cells": [
  {
   "cell_type": "code",
   "execution_count": null,
   "metadata": {
    "collapsed": false,
    "deletable": true,
    "editable": true
   },
   "outputs": [],
   "source": [
    "# IC_Text herausfinden\n",
    "\"\"\"\n",
    "text = 'GINOI NSKXQ KYCKN KCKNK NGHOI NJUIN JGYCU XZBKX MKYYK TGINJ GYCUX ZCUXG ALGSK TJKKX JGYCO XJCGY KXMKC KYKT'\n",
    "vorkommenbuchstaben =[0, 0, 0, 0, 0,\n",
    "                      0, 0, 0, 0, 0,\n",
    "                      0, 0, 0, 0, 0,\n",
    "                      0, 0, 0, 0, 0,\n",
    "                      0, 0, 0, 0, 0,\n",
    "                      0]\n",
    "\"\"\"\n",
    "text = 'a a b b c a c a c b b c a c c c a'\n",
    "vorkommenbuchstaben = [0, 0, 0]\n",
    "text = text.replace(' ', '')\n",
    "text = text.lower()\n",
    "anzahlbuchstaben = len(text)\n",
    "print(text)\n",
    "print(vorkommenbuchstaben)\n",
    "for char in text:\n",
    "    vorkommenbuchstaben[ord(char) - 97] += 1\n",
    "print vorkommenbuchstaben\n",
    "print anzahlbuchstaben"
   ]
  },
  {
   "cell_type": "code",
   "execution_count": null,
   "metadata": {
    "collapsed": false,
    "deletable": true,
    "editable": true
   },
   "outputs": [],
   "source": []
  }
 ],
 "metadata": {
  "kernelspec": {
   "display_name": "SageMath 8.1",
   "language": "",
   "name": "sagemath"
  },
  "language_info": {
   "codemirror_mode": {
    "name": "ipython",
    "version": 2
   },
   "file_extension": ".py",
   "mimetype": "text/x-python",
   "name": "python",
   "nbconvert_exporter": "python",
   "pygments_lexer": "ipython2",
   "version": "2.7.14"
  }
 },
 "nbformat": 4,
 "nbformat_minor": 2
}
