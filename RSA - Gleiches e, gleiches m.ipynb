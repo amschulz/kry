{
 "cells": [
  {
   "cell_type": "code",
   "execution_count": 1,
   "metadata": {
    "collapsed": false,
    "deletable": true,
    "editable": true
   },
   "outputs": [
    {
     "name": "stdout",
     "output_type": "stream",
     "text": [
      "('x: ', 36926037)\n",
      "('m: ', 333)\n",
      "\n",
      "\n",
      "('m1: ', 14803)\n",
      "('m2: ', 26989)\n",
      "('m3: ', 49087)\n",
      "('M1: ', 1324809043)\n",
      "('M2: ', 726634861)\n",
      "('M3: ', 399518167)\n",
      "('y1: ', 9486)\n",
      "('y2: ', 6692)\n",
      "('y3: ', 5460)\n",
      "0\n"
     ]
    }
   ],
   "source": [
    "e = 3\n",
    "n1 = 14803\n",
    "n2 = 26989\n",
    "n3 = 49087\n",
    "c1 = 7355\n",
    "c2 = 5085\n",
    "c3 = 12613\n",
    "\n",
    "# x = crt([(m^e)%n1, (m^e)%n2, (m^e)%n3],[n1, n2, n3])\n",
    "x = crt([c1, c2, c3],[n1, n2, n3])\n",
    "print('x: ', x)\n",
    "m = x.nth_root(e)\n",
    "print('m: ', m)\n",
    "\n",
    "print ''\n",
    "print ''\n",
    "\n",
    "m1 = n1\n",
    "m2 = n2\n",
    "m3 = n3\n",
    "m = m1 * m2 * m3\n",
    "\n",
    "M1 = m / m1\n",
    "M2 = m / m2\n",
    "M3 = m / m3\n",
    "\n",
    "y1 = 0\n",
    "y2 = 0\n",
    "y3 = 0\n",
    "\n",
    "print ('m1: ', m1)\n",
    "print ('m2: ', m2)\n",
    "print ('m3: ', m3)\n",
    "print ('M1: ', M1)\n",
    "print ('M2: ', M2)\n",
    "print ('M3: ', M3)\n",
    "\n",
    "for i in range(m1):\n",
    "    if (i*M1) % m1 == 1:\n",
    "        y1 = i\n",
    "        break\n",
    "\n",
    "for j in range(m2):\n",
    "    if (j*M2) % m2 == 1:\n",
    "        y2 = j\n",
    "        break\n",
    "\n",
    "for k in range(m3):\n",
    "    if (k*M3) % m3 == 1:\n",
    "        y3 = k\n",
    "        break\n",
    "        \n",
    "\n",
    "print ('y1: ', y1)\n",
    "print ('y2: ', y2)\n",
    "print ('y3: ', y3)\n",
    "\n",
    "x = ((m1 * M1 * y1) + (m2 * M2 * y2) + (m3 * M3 * y3)) % m\n",
    "print(x)"
   ]
  }
 ],
 "metadata": {
  "kernelspec": {
   "display_name": "SageMath 8.1",
   "language": "",
   "name": "sagemath"
  },
  "language_info": {
   "codemirror_mode": {
    "name": "ipython",
    "version": 2
   },
   "file_extension": ".py",
   "mimetype": "text/x-python",
   "name": "python",
   "nbconvert_exporter": "python",
   "pygments_lexer": "ipython2",
   "version": "2.7.14"
  }
 },
 "nbformat": 4,
 "nbformat_minor": 2
}
