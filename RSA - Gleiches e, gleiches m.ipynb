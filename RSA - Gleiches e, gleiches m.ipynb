{
 "cells": [
  {
   "cell_type": "code",
   "execution_count": 3,
   "metadata": {
    "collapsed": false,
    "deletable": true,
    "editable": true
   },
   "outputs": [
    {
     "name": "stdout",
     "output_type": "stream",
     "text": [
      "('x: ', 1371737997260631)\n",
      "('m: ', 111111)\n",
      "\n",
      "\n",
      "('m1: ', 50651525257)\n",
      "('m2: ', 50701497571)\n",
      "('m3: ', 50762763707)\n",
      "('M1: ', 2573748140787707455697)\n",
      "('M2: ', 2571211408020233447699)\n",
      "('M3: ', 2568108184785230650747)\n"
     ]
    },
    {
     "ename": "NotImplementedError",
     "evalue": "",
     "output_type": "error",
     "traceback": [
      "\u001b[0;31m---------------------------------------------------------------------------\u001b[0m",
      "\u001b[0;31mNotImplementedError\u001b[0m                       Traceback (most recent call last)",
      "\u001b[0;32m<ipython-input-3-04d66c6e7444>\u001b[0m in \u001b[0;36m<module>\u001b[0;34m()\u001b[0m\n\u001b[1;32m     62\u001b[0m \"\"\"\n\u001b[1;32m     63\u001b[0m \u001b[0;34m\u001b[0m\u001b[0m\n\u001b[0;32m---> 64\u001b[0;31m \u001b[0my1\u001b[0m \u001b[0;34m=\u001b[0m \u001b[0mM1\u001b[0m\u001b[0;34m.\u001b[0m\u001b[0minverse_mod\u001b[0m\u001b[0;34m(\u001b[0m\u001b[0mm1\u001b[0m\u001b[0;34m)\u001b[0m\u001b[0;34m\u001b[0m\u001b[0m\n\u001b[0m\u001b[1;32m     65\u001b[0m \u001b[0my2\u001b[0m \u001b[0;34m=\u001b[0m \u001b[0mM2\u001b[0m\u001b[0;34m.\u001b[0m\u001b[0minverse_mod\u001b[0m\u001b[0;34m(\u001b[0m\u001b[0mm2\u001b[0m\u001b[0;34m)\u001b[0m\u001b[0;34m\u001b[0m\u001b[0m\n\u001b[1;32m     66\u001b[0m \u001b[0my3\u001b[0m \u001b[0;34m=\u001b[0m \u001b[0mM3\u001b[0m\u001b[0;34m.\u001b[0m\u001b[0minverse_mod\u001b[0m\u001b[0;34m(\u001b[0m\u001b[0mm3\u001b[0m\u001b[0;34m)\u001b[0m\u001b[0;34m\u001b[0m\u001b[0m\n",
      "\u001b[0;32m/opt/sagemath-8.1/src/sage/structure/element.pyx\u001b[0m in \u001b[0;36msage.structure.element.CommutativeRingElement.inverse_mod (build/cythonized/sage/structure/element.c:18336)\u001b[0;34m()\u001b[0m\n\u001b[1;32m   2612\u001b[0m         \u001b[0mi\u001b[0m\u001b[0;34m.\u001b[0m\u001b[0me\u001b[0m\u001b[0;34m.\u001b[0m\u001b[0;34m,\u001b[0m \u001b[0;32mif\u001b[0m \u001b[0;34m`\u001b[0m\u001b[0mI\u001b[0m\u001b[0;34m`\u001b[0m \u001b[0;32mand\u001b[0m \u001b[0;34m`\u001b[0m\u001b[0;34m`\u001b[0m\u001b[0mself\u001b[0m\u001b[0;34m`\u001b[0m\u001b[0;34m`\u001b[0m \u001b[0mtogether\u001b[0m \u001b[0mgenerate\u001b[0m \u001b[0mthe\u001b[0m \u001b[0munit\u001b[0m \u001b[0mideal\u001b[0m\u001b[0;34m.\u001b[0m\u001b[0;34m\u001b[0m\u001b[0m\n\u001b[1;32m   2613\u001b[0m         \"\"\"\n\u001b[0;32m-> 2614\u001b[0;31m         \u001b[0;32mraise\u001b[0m \u001b[0mNotImplementedError\u001b[0m\u001b[0;34m\u001b[0m\u001b[0m\n\u001b[0m\u001b[1;32m   2615\u001b[0m \u001b[0;34m\u001b[0m\u001b[0m\n\u001b[1;32m   2616\u001b[0m     \u001b[0;32mdef\u001b[0m \u001b[0mdivides\u001b[0m\u001b[0;34m(\u001b[0m\u001b[0mself\u001b[0m\u001b[0;34m,\u001b[0m \u001b[0mx\u001b[0m\u001b[0;34m)\u001b[0m\u001b[0;34m:\u001b[0m\u001b[0;34m\u001b[0m\u001b[0m\n",
      "\u001b[0;31mNotImplementedError\u001b[0m: "
     ]
    }
   ],
   "source": [
    "# e = 3\n",
    "# n1 = 14803\n",
    "# n2 = 26989\n",
    "# n3 = 49087\n",
    "# c1 = 7355\n",
    "# c2 = 5085\n",
    "# c3 = 12613\n",
    "\n",
    "\n",
    "# x = crt([(m^e)%n1, (m^e)%n2, (m^e)%n3],[n1, n2, n3])\n",
    "x = crt([c1, c2, c3],[n1, n2, n3])\n",
    "print('x: ', x)\n",
    "m = x.nth_root(e)\n",
    "print('m: ', m)\n",
    "\n",
    "print ''\n",
    "print ''\n",
    "\n",
    "m1 = n1\n",
    "m2 = n2\n",
    "m3 = n3\n",
    "m = m1 * m2 * m3\n",
    "\n",
    "M1 = m / m1\n",
    "M2 = m / m2\n",
    "M3 = m / m3\n",
    "\n",
    "y1 = 0\n",
    "y2 = 0\n",
    "y3 = 0\n",
    "\n",
    "print ('m1: ', m1)\n",
    "print ('m2: ', m2)\n",
    "print ('m3: ', m3)\n",
    "print ('M1: ', M1)\n",
    "print ('M2: ', M2)\n",
    "print ('M3: ', M3)\n",
    "\n",
    "for i in range(m1):\n",
    "    if (i*M1) % m1 == 1:\n",
    "        y1 = i\n",
    "        break\n",
    "\n",
    "for j in range(m2):\n",
    "    if (j*M2) % m2 == 1:\n",
    "        y2 = j\n",
    "        break\n",
    "\n",
    "for k in range(m3):\n",
    "    if (k*M3) % m3 == 1:\n",
    "        y3 = k\n",
    "        break\n",
    "\n",
    "\n",
    "print ('y1: ', y1)\n",
    "print ('y2: ', y2)\n",
    "print ('y3: ', y3)\n",
    "\n",
    "x = ((m1 * M1 * y1) + (m2 * M2 * y2) + (m3 * M3 * y3)) % m\n",
    "print(x)"
   ]
  }
 ],
 "metadata": {
  "kernelspec": {
   "display_name": "SageMath 8.1",
   "language": "",
   "name": "sagemath"
  },
  "language_info": {
   "codemirror_mode": {
    "name": "ipython",
    "version": 2
   },
   "file_extension": ".py",
   "mimetype": "text/x-python",
   "name": "python",
   "nbconvert_exporter": "python",
   "pygments_lexer": "ipython2",
   "version": "2.7.14"
  }
 },
 "nbformat": 4,
 "nbformat_minor": 2
}
