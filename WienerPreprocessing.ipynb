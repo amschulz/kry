{
 "cells": [
  {
   "cell_type": "code",
   "execution_count": 1,
   "metadata": {
    "collapsed": false,
    "deletable": true,
    "editable": true
   },
   "outputs": [
    {
     "ename": "IndentationError",
     "evalue": "expected an indented block (<ipython-input-1-0846ce9339d7>, line 10)",
     "output_type": "error",
     "traceback": [
      "\u001b[0;36m  File \u001b[0;32m\"<ipython-input-1-0846ce9339d7>\"\u001b[0;36m, line \u001b[0;32m10\u001b[0m\n\u001b[0;31m    contFrac = continued_fraction(e/n)\u001b[0m\n\u001b[0m           ^\u001b[0m\n\u001b[0;31mIndentationError\u001b[0m\u001b[0;31m:\u001b[0m expected an indented block\n"
     ]
    }
   ],
   "source": [
    "p = next_probable_prime(2^512)\n",
    "q = next_probable_prime(13)\n",
    "n = p * q\n",
    "phi = (p-1) * (q-1)\n",
    "d = 2^200 + 12345678987654321\n",
    "e = d.inverse_mod(phi)\n",
    "\n",
    "\n",
    "def wiener(n, e):\n",
    "contFrac = continued_fraction(e/n)"
   ]
  }
 ],
 "metadata": {
  "kernelspec": {
   "display_name": "SageMath 8.1",
   "language": "",
   "name": "sagemath"
  },
  "language_info": {
   "codemirror_mode": {
    "name": "ipython",
    "version": 2
   },
   "file_extension": ".py",
   "mimetype": "text/x-python",
   "name": "python",
   "nbconvert_exporter": "python",
   "pygments_lexer": "ipython2",
   "version": "2.7.14"
  }
 },
 "nbformat": 4,
 "nbformat_minor": 2
}
