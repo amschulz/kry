{
 "cells": [
  {
   "cell_type": "code",
   "execution_count": 1,
   "metadata": {
    "collapsed": false,
    "deletable": true,
    "editable": true
   },
   "outputs": [
    {
     "name": "stdout",
     "output_type": "stream",
     "text": [
      "P1: [2, 3, 5, 7, 11, 13, 17, 19, 23, 29, 31]\n",
      "k1: 144403552893600\n",
      "p1: 274010536801\n",
      "p1|n: True\n"
     ]
    }
   ],
   "source": [
    "def primesSmallerB(B):\n",
    "    P = [2]\n",
    "    p = 2\n",
    "    while p < B:\n",
    "        p = p.next_prime()\n",
    "        P.append(p)\n",
    "    del(P[len(P)-1])\n",
    "    return P\n",
    "    \n",
    "def k(P, B):\n",
    "    b = log(B).n()\n",
    "    k = 1\n",
    "    for p in P:\n",
    "        plog = log(p).n()\n",
    "        beta = floor(b/plog)\n",
    "        k = k*p^beta\n",
    "    return k\n",
    "\n",
    "# B1 = 100\n",
    "# a1 = 3\n",
    "# n1 = 20740011509170566034109370008043505410571\n",
    "\n",
    "#B1 = 30\n",
    "#a1 = 2\n",
    "#n1 = 661643\n",
    "\n",
    "B1 = 32\n",
    "a1 = 2\n",
    "n1 = 212777786030842588201\n",
    "\n",
    "P1 = primesSmallerB(B1)\n",
    "print('P1: %s' % P1)\n",
    "k1 = k(P1, B1)\n",
    "print('k1: %s' % k1)\n",
    "p1 = gcd(a1.powermod(k1,n1) - 1, n1)\n",
    "print('p1: %s' % p1)\n",
    "print('p1|n: %s' % (n1%p1==0))"
   ]
  },
  {
   "cell_type": "code",
   "execution_count": null,
   "metadata": {
    "collapsed": true,
    "deletable": true,
    "editable": true
   },
   "outputs": [],
   "source": []
  }
 ],
 "metadata": {
  "kernelspec": {
   "display_name": "SageMath 8.1",
   "language": "",
   "name": "sagemath"
  },
  "language_info": {
   "codemirror_mode": {
    "name": "ipython",
    "version": 2
   },
   "file_extension": ".py",
   "mimetype": "text/x-python",
   "name": "python",
   "nbconvert_exporter": "python",
   "pygments_lexer": "ipython2",
   "version": "2.7.14"
  }
 },
 "nbformat": 4,
 "nbformat_minor": 2
}
