{
 "cells": [
  {
   "cell_type": "code",
   "execution_count": 49,
   "metadata": {
    "collapsed": false,
    "deletable": true,
    "editable": true,
    "scrolled": true
   },
   "outputs": [
    {
     "name": "stdout",
     "output_type": "stream",
     "text": [
      "p is prime:  True\n",
      "factors: 2 * 5 * 37 * 3631 * 7883 * 11657\n",
      "\n",
      "5 is not a generator because: 5^(123454321234570/2) mod 123454321234571 = 1\n",
      "5 is not a generator because: 5^(123454321234570/5) mod 123454321234571 = 1\n",
      "37 is not a generator because: 37^(123454321234570/2) mod 123454321234571 = 1\n",
      "7883 is not a generator because: 7883^(123454321234570/5) mod 123454321234571 = 1\n",
      "11657 is not a generator because: 11657^(123454321234570/2) mod 123454321234571 = 1\n",
      "\n",
      "{'37': False, '3631': True, '2': True, '5': False, '7883': False, '11657': False}\n"
     ]
    }
   ],
   "source": [
    "NEUTRALESELEMENT = 1\n",
    "\n",
    "def is_erzeugend(p1, factorlist, q):\n",
    "    p = p1 + 1\n",
    "    anything_is_neutral = False\n",
    "    for qi, b in factorlist:\n",
    "        d = q.powermod(p1/qi, p)\n",
    "        if(d == NEUTRALESELEMENT):\n",
    "            anything_is_neutral = True\n",
    "            print('%s is not a generator because: %s^(%s/%s) mod %s = %s' % (q, q, p1, qi, p, d))\n",
    "    return not(anything_is_neutral)\n",
    "\n",
    "def get_factorslist(p1):\n",
    "    factors = factor(p1)\n",
    "    print('factors: %s' % factors)\n",
    "    print('')\n",
    "    return list(factors)\n",
    "    \n",
    "\n",
    "# p = 7927\n",
    "\n",
    "# p = 100000717\n",
    "\n",
    "# p = 65497   \n",
    "  \n",
    "p = 123454321234571    \n",
    "    \n",
    "print('p is prime:  %s' % p.is_prime())\n",
    "if p.is_prime():\n",
    "    p1 = p - 1\n",
    "    factorslist = get_factorslist(p1)\n",
    "    factor_is_erzeugend = {}\n",
    "    \n",
    "    for q, a in factorslist:\n",
    "        factor_is_erzeugend['%s' % q] = is_erzeugend(p1, factorslist, q)\n",
    "    \n",
    "    print('')\n",
    "    print(factor_is_erzeugend)"
   ]
  },
  {
   "cell_type": "code",
   "execution_count": 54,
   "metadata": {
    "collapsed": false,
    "deletable": true,
    "editable": true
   },
   "outputs": [
    {
     "name": "stdout",
     "output_type": "stream",
     "text": [
      "p is prime:  True\n",
      "factors: 2 * 5 * 37 * 3631 * 7883 * 11657\n",
      "\n",
      "53 ist erzeugend: True\n"
     ]
    }
   ],
   "source": [
    "# p = 123454321234571\n",
    "# a = 105\n",
    "\n",
    "p = 123454321234571\n",
    "a = 53\n",
    "\n",
    "print('p is prime:  %s' % p.is_prime())\n",
    "if p.is_prime():\n",
    "    p1 = p - 1\n",
    "    factorslist = get_factorslist(p1)\n",
    "    print('%s ist erzeugend: %s' % (a, is_erzeugend(p1, factorslist, a)))"
   ]
  }
 ],
 "metadata": {
  "kernelspec": {
   "display_name": "SageMath 8.1",
   "language": "",
   "name": "sagemath"
  },
  "language_info": {
   "codemirror_mode": {
    "name": "ipython",
    "version": 2
   },
   "file_extension": ".py",
   "mimetype": "text/x-python",
   "name": "python",
   "nbconvert_exporter": "python",
   "pygments_lexer": "ipython2",
   "version": "2.7.14"
  }
 },
 "nbformat": 4,
 "nbformat_minor": 2
}
