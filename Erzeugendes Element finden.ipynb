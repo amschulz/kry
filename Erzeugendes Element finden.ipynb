{
 "cells": [
  {
   "cell_type": "code",
   "execution_count": 3,
   "metadata": {
    "collapsed": false,
    "deletable": true,
    "editable": true
   },
   "outputs": [
    {
     "name": "stdout",
     "output_type": "stream",
     "text": [
      "p is prime:  True\n",
      "factors: 2^2 * 3 * 61 * 67 * 2039\n",
      "\n",
      "3 is not a generator because: 3^50000358 mod 100000717 = 1\n",
      "61 is not a generator because: 61^50000358 mod 100000717 = 1\n",
      "67 is not a generator because: 67^50000358 mod 100000717 = 1\n",
      "2039 is not a generator because: 2039^50000358 mod 100000717 = 1\n",
      "\n",
      "{'61': False, '3': False, '2': True, '2039': False, '67': False}\n"
     ]
    }
   ],
   "source": [
    "# p = 7927\n",
    "# neutrales_element = 1\n",
    "\n",
    "p = 100000717\n",
    "neutrales_element = 1\n",
    "\n",
    "# p = 65497\n",
    "# neutrales_element = 1\n",
    "\n",
    "print('p is prime:  %s' % p.is_prime())\n",
    "if p.is_prime():\n",
    "    p1 = p - 1\n",
    "    factors = factor(p1)\n",
    "    print('factors: %s' % factors)\n",
    "    print('')\n",
    "    \n",
    "    factorlist = list(factors)\n",
    "    factor_is_erzeugend = {}\n",
    "    \n",
    "    for q, a in factorlist:\n",
    "        anything_is_neutral = False\n",
    "        for qi, b in factorlist:\n",
    "            d = q.powermod(p1/qi, p)\n",
    "            if(d == neutrales_element):\n",
    "                anything_is_neutral = True\n",
    "                print('%s is not a generator because: %s^%s mod %s = %s' % (q, q, p1/qi, p, d))\n",
    "                break\n",
    "        factor_is_erzeugend['%s' % q] = not anything_is_neutral\n",
    "    \n",
    "    print('')\n",
    "    print(factor_is_erzeugend)"
   ]
  },
  {
   "cell_type": "code",
   "execution_count": null,
   "metadata": {
    "collapsed": true,
    "deletable": true,
    "editable": true
   },
   "outputs": [],
   "source": []
  }
 ],
 "metadata": {
  "kernelspec": {
   "display_name": "SageMath 8.1",
   "language": "",
   "name": "sagemath"
  },
  "language_info": {
   "codemirror_mode": {
    "name": "ipython",
    "version": 2
   },
   "file_extension": ".py",
   "mimetype": "text/x-python",
   "name": "python",
   "nbconvert_exporter": "python",
   "pygments_lexer": "ipython2",
   "version": "2.7.14"
  }
 },
 "nbformat": 4,
 "nbformat_minor": 2
}
