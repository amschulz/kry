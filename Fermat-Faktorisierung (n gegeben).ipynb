{
 "cells": [
  {
   "cell_type": "code",
   "execution_count": 1,
   "metadata": {
    "collapsed": false,
    "deletable": true,
    "editable": true
   },
   "outputs": [
    {
     "name": "stdout",
     "output_type": "stream",
     "text": [
      "t: 105881\n",
      "s: 1152\n",
      "a: 107033\n",
      "b: 104729\n",
      "n=a*b: 11209459057\n",
      "Correct: True\n"
     ]
    }
   ],
   "source": [
    "# n = 66534071\n",
    "# n = 66483749\n",
    "n = 11209459057\n",
    "\n",
    "t = floor(sqrt(n).n()) + 1\n",
    "s = 0.1\n",
    "while (s != floor(s) and (t < n)):\n",
    "    s = sqrt(t^2 - n)\n",
    "    t = t + 1\n",
    "\n",
    "t = t - 1\n",
    "print('t: %s' % t)\n",
    "print('s: %s' % s)\n",
    "a = t + s\n",
    "b = t - s\n",
    "print('a: %s' % (a))\n",
    "print('b: %s' % (b))\n",
    "print('n=a*b: %s' % (a*b))\n",
    "print('Correct: %s' % (a*b == n))"
   ]
  },
  {
   "cell_type": "code",
   "execution_count": null,
   "metadata": {
    "collapsed": true,
    "deletable": true,
    "editable": true
   },
   "outputs": [],
   "source": []
  }
 ],
 "metadata": {
  "kernelspec": {
   "display_name": "SageMath 8.1",
   "language": "",
   "name": "sagemath"
  },
  "language_info": {
   "codemirror_mode": {
    "name": "ipython",
    "version": 2
   },
   "file_extension": ".py",
   "mimetype": "text/x-python",
   "name": "python",
   "nbconvert_exporter": "python",
   "pygments_lexer": "ipython2",
   "version": "2.7.14"
  }
 },
 "nbformat": 4,
 "nbformat_minor": 2
}
