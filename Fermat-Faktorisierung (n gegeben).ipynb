{
 "cells": [
  {
   "cell_type": "code",
   "execution_count": 1,
   "metadata": {
    "collapsed": false,
    "deletable": true,
    "editable": true
   },
   "outputs": [
    {
     "name": "stdout",
     "output_type": "stream",
     "text": [
      "+------+---------+------------------+\n",
      "| t    | t^2 - n | s                |\n",
      "+======+=========+==================+\n",
      "| 8154 | 3967    | 62.9841249839989 |\n",
      "+------+---------+------------------+\n",
      "| 8155 | 20276   | 142.393820090621 |\n",
      "+------+---------+------------------+\n",
      "| 8156 | 36587   | 191.277285635279 |\n",
      "+------+---------+------------------+\n",
      "| 8157 | 52900   | 230.000000000000 |\n",
      "+------+---------+------------------+\n",
      "\n",
      "t: 8157\n",
      "s: 230\n",
      "\n",
      "a: 8387\n",
      "b: 7927\n",
      "n=a*b: 66483749\n",
      "Correct: True\n"
     ]
    }
   ],
   "source": [
    "# n = 66534071\n",
    "n = 66483749\n",
    "# n = 11209459057\n",
    "\n",
    "t = floor(sqrt(n).n()) + 1\n",
    "s = 0.1\n",
    "counter = 0\n",
    "output = [['t', 't^2 - n', 's']]\n",
    "while (s != floor(s)):\n",
    "    t2n = t^2 - n\n",
    "    s = sqrt(t2n)\n",
    "    output.append([t, t2n, s.n(digits=15)])\n",
    "    t = t + 1\n",
    "\n",
    "print(table(output, header_row=True, frame=True))\n",
    "print('')\n",
    "t = t - 1\n",
    "print('t: %s' % t)\n",
    "print('s: %s' % s)\n",
    "print('')\n",
    "a = t + s\n",
    "b = t - s\n",
    "print('a: %s' % (a))\n",
    "print('b: %s' % (b))\n",
    "print('n=a*b: %s' % (a*b))\n",
    "print('Correct: %s' % (a*b == n))"
   ]
  },
  {
   "cell_type": "code",
   "execution_count": null,
   "metadata": {
    "collapsed": true,
    "deletable": true,
    "editable": true
   },
   "outputs": [],
   "source": []
  }
 ],
 "metadata": {
  "kernelspec": {
   "display_name": "SageMath 8.1",
   "language": "",
   "name": "sagemath"
  },
  "language_info": {
   "codemirror_mode": {
    "name": "ipython",
    "version": 2
   },
   "file_extension": ".py",
   "mimetype": "text/x-python",
   "name": "python",
   "nbconvert_exporter": "python",
   "pygments_lexer": "ipython2",
   "version": "2.7.14"
  }
 },
 "nbformat": 4,
 "nbformat_minor": 2
}
