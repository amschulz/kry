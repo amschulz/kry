{
 "cells": [
  {
   "cell_type": "code",
   "execution_count": 1,
   "metadata": {
    "collapsed": false,
    "deletable": true,
    "editable": true
   },
   "outputs": [
    {
     "name": "stdout",
     "output_type": "stream",
     "text": [
      "sig(m): 110\n"
     ]
    }
   ],
   "source": [
    "def sig(hm, d , n):\n",
    "    return hm.powermod(d, n)\n",
    "    \n",
    "\n",
    "n = 143\n",
    "e = 7\n",
    "d = 103\n",
    "\n",
    "hm = 33\n",
    "\n",
    "\n",
    "hm = sage.rings.integer.Integer(hm)\n",
    "s = sig(hm, d, n)\n",
    "print('sig(m): %s' % s)"
   ]
  }
 ],
 "metadata": {
  "kernelspec": {
   "display_name": "SageMath 8.1",
   "language": "",
   "name": "sagemath"
  },
  "language_info": {
   "codemirror_mode": {
    "name": "ipython",
    "version": 2
   },
   "file_extension": ".py",
   "mimetype": "text/x-python",
   "name": "python",
   "nbconvert_exporter": "python",
   "pygments_lexer": "ipython2",
   "version": "2.7.14"
  }
 },
 "nbformat": 4,
 "nbformat_minor": 2
}
