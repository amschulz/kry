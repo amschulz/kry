{
 "cells": [
  {
   "cell_type": "code",
   "execution_count": 17,
   "metadata": {
    "collapsed": false,
    "deletable": true,
    "editable": true
   },
   "outputs": [
    {
     "name": "stdout",
     "output_type": "stream",
     "text": [
      "sig(m): 12133284\n"
     ]
    }
   ],
   "source": [
    "def sig(hm, d , n):\n",
    "    return hm.powermod(d, n)\n",
    "\n",
    "\n",
    "        \n",
    "\n",
    "# n = 143\n",
    "# e = 7\n",
    "# d = 103\n",
    "# hm = 33\n",
    "\n",
    "n = 302864213\n",
    "e = 20213\n",
    "d = 189311453\n",
    "hm = 1111\n",
    "\n",
    "hm = sage.rings.integer.Integer(hm)\n",
    "s = sig(hm, d, n)\n",
    "print('sig(m): %s' % s)"
   ]
  },
  {
   "cell_type": "code",
   "execution_count": 15,
   "metadata": {
    "collapsed": false
   },
   "outputs": [
    {
     "name": "stdout",
     "output_type": "stream",
     "text": [
      "17401 is not because gcd(phi, e) is not 1\n",
      "q: 17417\n",
      "phi: 302829408\n",
      "n: 302864213\n",
      "d: 189311453\n",
      "encrypted_message: 193211855\n"
     ]
    }
   ],
   "source": [
    "def get_q_out_of_pool(p, pool, e):\n",
    "    for num in pool:\n",
    "        num = sage.rings.integer.Integer(num)\n",
    "        if not num.is_prime():\n",
    "            print('%s is not because it is not prime' % num)\n",
    "            continue\n",
    "        phi = get_phi(p, num)\n",
    "        if gcd(phi, e) != 1:\n",
    "            print('%s is not because gcd(phi, e) is not 1' % num)\n",
    "            continue\n",
    "        return num\n",
    "\n",
    "def get_phi(p, q):\n",
    "    return (p-1)*(q-1)\n",
    "    \n",
    "def get_d(phi, e):\n",
    "    return e.inverse_mod(phi)\n",
    "    \n",
    "def encrypt_message(m, e, n):\n",
    "    return m.powermod(e, n)\n",
    "\n",
    "def get_n(p, q):\n",
    "    return p*q\n",
    "    \n",
    "p = 17389\n",
    "e = 20213\n",
    "hm = 12345\n",
    "pool = [17401, 17417, 17443, 17467, 17471]\n",
    "\n",
    "q = get_q_out_of_pool(p, pool, e)\n",
    "print('q: %s' % q)\n",
    "phi = get_phi(p, q)\n",
    "print('phi: %s' % phi)\n",
    "n = get_n(p, q)\n",
    "print('n: %s' % n)\n",
    "d = get_d(phi, e)\n",
    "print('d: %s' % d)\n",
    "enrypted_message = encrypt_message(hm, e ,n)\n",
    "print('encrypted_message: %s' % enrypted_message)"
   ]
  }
 ],
 "metadata": {
  "kernelspec": {
   "display_name": "SageMath 8.1",
   "language": "",
   "name": "sagemath"
  },
  "language_info": {
   "codemirror_mode": {
    "name": "ipython",
    "version": 2
   },
   "file_extension": ".py",
   "mimetype": "text/x-python",
   "name": "python",
   "nbconvert_exporter": "python",
   "pygments_lexer": "ipython2",
   "version": "2.7.14"
  }
 },
 "nbformat": 4,
 "nbformat_minor": 2
}
