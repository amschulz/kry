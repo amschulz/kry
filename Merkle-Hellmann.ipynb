{
 "cells": [
  {
   "cell_type": "code",
   "execution_count": 1,
   "metadata": {
    "collapsed": false,
    "deletable": true,
    "editable": true
   },
   "outputs": [
    {
     "name": "stdout",
     "output_type": "stream",
     "text": [
      "b: [5216, 4032, 746, 19002, 8247, 8571, 14602]\n",
      "c: [17819, 54454]\n",
      "winverse: 5200\n",
      "T: 20866\n",
      "message: [0, 1, 0, 1, 0, 1, 1]\n"
     ]
    }
   ],
   "source": [
    "def getB(a, w, m):\n",
    "    b = []\n",
    "    for ai in a:\n",
    "        bi = (ai*w)%m\n",
    "        b.append(bi)\n",
    "    return b\n",
    "\n",
    "def encrypt_message(message, b):\n",
    "    c = []\n",
    "    blen = len(b)\n",
    "    for i, me in enumerate(message):\n",
    "        val = me * b[i%blen]\n",
    "        cindex = floor(i/blen)\n",
    "        if len(c) <= cindex:\n",
    "            c.append(0)\n",
    "        c[cindex] = c[cindex] + val\n",
    "    return c\n",
    "        \n",
    "def decrypt_message(T, a):\n",
    "    anew = a[::-1]\n",
    "    message = []\n",
    "    rest = T\n",
    "    for ai in anew:\n",
    "        if rest - ai >= 0:\n",
    "            message.append(1)\n",
    "            rest = rest - ai\n",
    "        else:\n",
    "            message.append(0)\n",
    "    message =  message[::-1]\n",
    "    return message\n",
    "    \n",
    "def getT(winverse, c, m):\n",
    "    return (winverse*c)%m\n",
    "    \n",
    "a = [200,321, 611,1311,2937,6111,13123]\n",
    "m = 27123\n",
    "w = 1111\n",
    "message = [1,1,0,0,0,1,0,0,1,0,1,1,1,1]\n",
    "\n",
    "b = getB(a,w,m)\n",
    "print('b: %s' % b)\n",
    "c = encrypt_message(message, b)\n",
    "print('c: %s' % c)\n",
    "\n",
    "w = 1111\n",
    "c = 19084\n",
    "b = [5216, 4032, 746, 19002, 8247, 8571, 14602]\n",
    "winverse = w.inverse_mod(m)\n",
    "print('winverse: %s' % winverse)\n",
    "T = getT(winverse, c,m)\n",
    "print('T: %s' % T)\n",
    "message = decrypt_message(T, a)\n",
    "print('message: %s' % message)"
   ]
  },
  {
   "cell_type": "code",
   "execution_count": null,
   "metadata": {
    "collapsed": true,
    "deletable": true,
    "editable": true
   },
   "outputs": [],
   "source": []
  }
 ],
 "metadata": {
  "kernelspec": {
   "display_name": "SageMath 8.1",
   "language": "",
   "name": "sagemath"
  },
  "language_info": {
   "codemirror_mode": {
    "name": "ipython",
    "version": 2
   },
   "file_extension": ".py",
   "mimetype": "text/x-python",
   "name": "python",
   "nbconvert_exporter": "python",
   "pygments_lexer": "ipython2",
   "version": "2.7.14"
  }
 },
 "nbformat": 4,
 "nbformat_minor": 2
}
