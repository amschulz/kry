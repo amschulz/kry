{
 "cells": [
  {
   "cell_type": "code",
   "execution_count": 1,
   "metadata": {
    "collapsed": false,
    "deletable": true,
    "editable": true
   },
   "outputs": [
    {
     "name": "stdout",
     "output_type": "stream",
     "text": [
      "['zwjlgklgag', 'wzlpnmqukv', 'jtvrgaiznf', 'katykykazc', 'chnlupjuph']\n",
      "['bxmmhklhah', 'xanromqwlv', 'kuwshbjaog', 'lbualzlbzd', 'diomvqkvqi']\n"
     ]
    }
   ],
   "source": [
    "text = 'ZWJKC WZTAH JLVTN LPRYL GNGKU KMAYP LQIKJ GUZAU AKNZP GVFCH'\n",
    "text = text.replace(' ', '')\n",
    "text = text.lower()\n",
    "\n",
    "caesars = ['',\n",
    "           '',\n",
    "           '',\n",
    "           '',\n",
    "           '']\n",
    "\n",
    "for i, ch in enumerate(text):\n",
    "    caesars[i % 5] = caesars[i % 5] + ch\n",
    "    \n",
    "print caesars\n",
    "\n",
    "for j, caesar in enumerate(caesars):\n",
    "\n",
    "    for c in caesar:\n",
    "        caesar = caesar.replace(c, chr((ord(c) + 1 - 97) % 26 + 97), 1)\n",
    "    caesars[j] = caesar\n",
    "print caesars"
   ]
  }
 ],
 "metadata": {
  "kernelspec": {
   "display_name": "SageMath 8.1",
   "language": "",
   "name": "sagemath"
  },
  "language_info": {
   "codemirror_mode": {
    "name": "ipython",
    "version": 2
   },
   "file_extension": ".py",
   "mimetype": "text/x-python",
   "name": "python",
   "nbconvert_exporter": "python",
   "pygments_lexer": "ipython2",
   "version": "2.7.14"
  }
 },
 "nbformat": 4,
 "nbformat_minor": 2
}
