{
 "cells": [
  {
   "cell_type": "code",
   "execution_count": 1,
   "metadata": {
    "collapsed": false,
    "deletable": true,
    "editable": true
   },
   "outputs": [],
   "source": [
    "\"\"\"\n",
    "p=next_probable_prime(2^500)\n",
    "q=next_probable_prime(2^500+7298483450238747938453)\n",
    "n = p*q\n",
    "phi = (p-1)*(q-1)\n",
    "e = 43\n",
    "e2 = 101\n",
    "gc = gcd(e, phi)\n",
    "d = e.inverse_mod(phi)\n",
    "d2 = e2.inverse_mod(phi)\n",
    "ed = \n",
    "m = 111111\n",
    "c = m.powermod(e2, n)\n",
    "\"\"\"\n",
    "e = 11111\n",
    "d = 4794998231\n",
    "e2 = 1003\n",
    "n = 9768666163\n",
    "\n",
    "\n",
    "h = (e*d-1) / gcd(e2, e*d - 1)\n",
    "# x = gcd(h, e2)\n",
    "delta = xgcd(h, e2)[2] \n",
    "\n",
    "dd = delta%h\n",
    "print dd\n",
    "\n",
    "c = 7694479420\n",
    "mm = c.powermod(dd,n)\n",
    "print mm\n",
    "\n",
    "print h\n",
    "print n"
   ]
  }
 ],
 "metadata": {
  "kernelspec": {
   "display_name": "SageMath 8.1",
   "language": "",
   "name": "sagemath"
  },
  "language_info": {
   "codemirror_mode": {
    "name": "ipython",
    "version": 2
   },
   "file_extension": ".py",
   "mimetype": "text/x-python",
   "name": "python",
   "nbconvert_exporter": "python",
   "pygments_lexer": "ipython2",
   "version": "2.7.14"
  }
 },
 "nbformat": 4,
 "nbformat_minor": 2
}
