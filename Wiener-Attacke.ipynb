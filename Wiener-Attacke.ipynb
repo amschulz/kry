{
 "cells": [
  {
   "cell_type": "code",
   "execution_count": 1,
   "metadata": {
    "collapsed": false,
    "deletable": true,
    "editable": true
   },
   "outputs": [],
   "source": [
    "def wiener (n, e):\n",
    "    contFrac = continued_fraction( e/n)\n",
    "    parConv = contFrac.convergents()\n",
    "    print \"number of partial convergents: %s\" % len(parConv)\n",
    "    del parConv[0]\n",
    "    L = []\n",
    "    for i in parConv:\n",
    "        h = (e*i.denom()-1)        \n",
    "        if h%i.numer() == 0:\n",
    "            phi = h//i.numer()\n",
    "            L.append(phi)\n",
    "    print \"number of candidates: %s\" % len(L)\n",
    "    print 'candidates: %s' % L\n",
    "    for i in L:     \n",
    "        a = n - i + 1 \n",
    "        b = sqrt(a*a-4*n)\n",
    "        if type(b) == sage.rings.integer.Integer:\n",
    "            p = (a + b)/2\n",
    "            q = n/p\n",
    "            break\n",
    "    return [p,q]\n",
    "\n",
    "def get_phi(p, q):\n",
    "    return (p-1)*(q-1)\n",
    "\n",
    "def get_d(phi, e):\n",
    "    return e.inverse_mod(phi)\n",
    "\n",
    "def decrypt_message(c, d, n):\n",
    "    return c.powermod(d, n)\n",
    "\n",
    "# e =7399277260279\n",
    "# n = 24686487642407\n",
    "n = 543974686273\n",
    "e = 18439769619\n",
    "pq = wiener(n, e)\n",
    "print('p: %s' % pq[0])\n",
    "print('q: %s' % pq[1])\n",
    "phi = get_phi(pq[0], pq[1])\n",
    "print('phi: %s' % phi)\n",
    "d = get_d(phi, e)\n",
    "print('d: %s' % d)\n",
    "\n",
    "c = 100\n",
    "message = decrypt_message(c, d, n)\n",
    "print('message: %s' % message)"
   ]
  },
  {
   "cell_type": "code",
   "execution_count": null,
   "metadata": {
    "collapsed": false,
    "deletable": true,
    "editable": true
   },
   "outputs": [],
   "source": []
  }
 ],
 "metadata": {
  "kernelspec": {
   "display_name": "SageMath 8.1",
   "language": "",
   "name": "sagemath"
  },
  "language_info": {
   "codemirror_mode": {
    "name": "ipython",
    "version": 2
   },
   "file_extension": ".py",
   "mimetype": "text/x-python",
   "name": "python",
   "nbconvert_exporter": "python",
   "pygments_lexer": "ipython2",
   "version": "2.7.14"
  }
 },
 "nbformat": 4,
 "nbformat_minor": 2
}
