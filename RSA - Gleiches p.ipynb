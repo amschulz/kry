{
 "cells": [
  {
   "cell_type": "code",
   "execution_count": null,
   "metadata": {
    "collapsed": false,
    "deletable": true,
    "editable": true
   },
   "outputs": [],
   "source": [
    "n1 =2923003274661805836407421649242809468366377451741\n",
    "n2 = 5846006549323611672814813075340128571003387248757\n",
    "e2 = 2327848144515018890779817844726458483098729133389\n",
    "p = gcd(n1,n2)\n",
    "print ('p: ', p)\n",
    "q1 = n1 / p\n",
    "q2 = n2 / p\n",
    "print ('q1: ', q1)\n",
    "print ('q2: ', q2)\n",
    "\n",
    "phi = euler_phi(n2)\n",
    "d2 = e2.inverse_mod(phi)\n",
    "print ('d2: ', d2)"
   ]
  }
 ],
 "metadata": {
  "kernelspec": {
   "display_name": "SageMath 8.1",
   "language": "",
   "name": "sagemath"
  },
  "language_info": {
   "codemirror_mode": {
    "name": "ipython",
    "version": 2
   },
   "file_extension": ".py",
   "mimetype": "text/x-python",
   "name": "python",
   "nbconvert_exporter": "python",
   "pygments_lexer": "ipython2",
   "version": "2.7.14"
  }
 },
 "nbformat": 4,
 "nbformat_minor": 2
}
