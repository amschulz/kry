{
 "cells": [
  {
   "cell_type": "code",
   "execution_count": 1,
   "metadata": {
    "collapsed": false,
    "deletable": true,
    "editable": true
   },
   "outputs": [
    {
     "name": "stdout",
     "output_type": "stream",
     "text": [
      "aabbcacacbbcaccca\n",
      "[0, 0, 0]\n",
      "[6, 4, 7]\n",
      "17\n"
     ]
    }
   ],
   "source": [
    "# IC_Sprache herausfinden\n",
    "\"\"\"\n",
    "text = 'GINOI NSKXQ KYCKN KCKNK NGHOI NJUIN JGYCU XZBKX MKYYK TGINJ GYCUX ZCUXG ALGSK TJKKX JGYCO XJCGY KXMKC KYKT'\n",
    "vorkommenbuchstaben =[0, 0, 0, 0, 0,\n",
    "                      0, 0, 0, 0, 0,\n",
    "                      0, 0, 0, 0, 0,\n",
    "                      0, 0, 0, 0, 0,\n",
    "                      0, 0, 0, 0, 0,\n",
    "                      0]\n",
    "\"\"\"\n",
    "text = 'a a b b c a c a c b b c a c c c a'\n",
    "vorkommenbuchstaben = [0, 0, 0]\n",
    "text = text.replace(' ', '')\n",
    "text = text.lower()\n",
    "anzahlbuchstaben = len(text)\n",
    "print(text)\n",
    "print(vorkommenbuchstaben)\n",
    "for char in text:\n",
    "    vorkommenbuchstaben[ord(char) - 97] += 1\n",
    "print vorkommenbuchstaben\n",
    "print anzahlbuchstaben"
   ]
  },
  {
   "cell_type": "code",
   "execution_count": 2,
   "metadata": {
    "collapsed": false,
    "deletable": true,
    "editable": true
   },
   "outputs": [
    {
     "name": "stdout",
     "output_type": "stream",
     "text": [
      "101/289\n",
      "0.349480968858\n"
     ]
    }
   ],
   "source": [
    "summe = 0\n",
    "for buchstabe in vorkommenbuchstaben:\n",
    "    if buchstabe == 0 or buchstabe is 0:\n",
    "        continue\n",
    "    summe += ((buchstabe / anzahlbuchstaben) ^ 2)\n",
    "print summe\n",
    "print summe.__float__()"
   ]
  },
  {
   "cell_type": "code",
   "execution_count": null,
   "metadata": {
    "collapsed": true,
    "deletable": true,
    "editable": true
   },
   "outputs": [],
   "source": []
  }
 ],
 "metadata": {
  "kernelspec": {
   "display_name": "SageMath 8.1",
   "language": "",
   "name": "sagemath"
  },
  "language_info": {
   "codemirror_mode": {
    "name": "ipython",
    "version": 2
   },
   "file_extension": ".py",
   "mimetype": "text/x-python",
   "name": "python",
   "nbconvert_exporter": "python",
   "pygments_lexer": "ipython2",
   "version": "2.7.14"
  }
 },
 "nbformat": 4,
 "nbformat_minor": 2
}
