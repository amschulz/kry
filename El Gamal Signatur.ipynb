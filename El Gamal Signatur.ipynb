{
 "cells": [
  {
   "cell_type": "code",
   "execution_count": 16,
   "metadata": {
    "collapsed": false,
    "deletable": true,
    "editable": true
   },
   "outputs": [
    {
     "name": "stdout",
     "output_type": "stream",
     "text": [
      "r: 13\n",
      "bT: 5010414\n",
      "x: 8192\n",
      "y: 4520465\n",
      "Signatur: (0000011111, 8192, 4520465)\n"
     ]
    }
   ],
   "source": [
    "# Signatur definieren\n",
    "def get_bT(aT, g, p):\n",
    "    return g.powermod(aT, p)\n",
    "\n",
    "def get_x(g, r, p):\n",
    "    return g.powermod(r, p)\n",
    "\n",
    "def get_y(message, aT, x, r, p):\n",
    "    p1 = p - 1\n",
    "    r1 = r.inverse_mod(p1)\n",
    "    return (message - aT*x)*r1%(p1)\n",
    "\n",
    "def blumblumshub_bin():\n",
    "    q = 11\n",
    "    p = 23\n",
    "    n = p*q\n",
    "    s0 = 16\n",
    "    s = []\n",
    "    z = []\n",
    "    bits = 6\n",
    "    \n",
    "    \n",
    "    for i in range(bits):\n",
    "        if len(s) == 0:\n",
    "            val = s0\n",
    "        else:\n",
    "            val = s[i - 1]\n",
    "        s.append(val.powermod(2, n))\n",
    "        z.append(s[i]%2)\n",
    "    print('blumblumshub - s: %s' % s)\n",
    "    print('blumblumshub - z: %s' % z)\n",
    "    return z\n",
    "\n",
    "def blumblumshub_dez():\n",
    "    rbin = blumblumshub_bin()\n",
    "    rdez = int(\"\".join(str(x) for x in rbin),2)\n",
    "    return sage.rings.integer.Integer(rdez)\n",
    "\n",
    "# p = 281\n",
    "# g = 2\n",
    "# aT = 7\n",
    "# message_bin = '01011010'\n",
    "# r = blumblumshub_dez()\n",
    "\n",
    "p = 32452843\n",
    "g = 2\n",
    "aT = 4711\n",
    "message_bin = '0000011111'\n",
    "r = 13\n",
    "\n",
    "\n",
    "print('r: %s' % r)\n",
    "\n",
    "bT = get_bT(aT, g, p)\n",
    "print('bT: %s' % bT)\n",
    "\n",
    "x = get_x(g, r, p)\n",
    "print('x: %s' % x)\n",
    "message = sage.rings.integer.Integer(int(message_bin,2))\n",
    "y = get_y(message, aT, x, r, p)\n",
    "print('y: %s' % y)\n",
    "print('Signatur: (%s, %s, %s)' % (message_bin, x, y))"
   ]
  },
  {
   "cell_type": "code",
   "execution_count": 17,
   "metadata": {
    "collapsed": false,
    "deletable": true,
    "editable": true
   },
   "outputs": [
    {
     "name": "stdout",
     "output_type": "stream",
     "text": [
      "Signatur (42, 10986468, 22959090) gültig: True\n"
     ]
    }
   ],
   "source": [
    "# Ist Signatur gültig?\n",
    "# message_bin =  '01011010'\n",
    "# message = sage.rings.integer.Integer(int(message_bin,2))\n",
    "# x = 183\n",
    "# y = 97\n",
    "# bT = 128\n",
    "\n",
    "message_bin =  '101010'\n",
    "message = sage.rings.integer.Integer(int(message_bin,2))\n",
    "x = 10986468\n",
    "y = 22959090\n",
    "\n",
    "def verify(message, x, y, bT):\n",
    "    val1 = ((bT^x)  * (x^y)) % p\n",
    "    val2 = g.powermod(message, p)\n",
    "    return val1 == val2\n",
    "print('Signatur (%s, %s, %s) gültig: %s' % (message, x, y, verify(message, x, y, bT)))"
   ]
  },
  {
   "cell_type": "code",
   "execution_count": 12,
   "metadata": {
    "collapsed": false,
    "deletable": true,
    "editable": true
   },
   "outputs": [
    {
     "name": "stdout",
     "output_type": "stream",
     "text": [
      "1000000\n",
      "2000000\n",
      "Found it 2821316\n",
      "x: 2338214\n",
      "y: 853701\n"
     ]
    }
   ],
   "source": [
    "# Signatur faken\n",
    "\n",
    "def get_aT(g, bT, p):\n",
    "    retval = -1\n",
    "    for i in range(1, p - 1):\n",
    "        if(i%1000000 == 0):\n",
    "            print(i)\n",
    "        if bT == g.powermod(i,p):\n",
    "            print('Found it %s' % i)\n",
    "            retval = i\n",
    "            break\n",
    "    return retval\n",
    "\n",
    "def get_x(g, r, p):\n",
    "    return g.powermod(r, p)\n",
    "\n",
    "def get_y(message, aT, x, r, p):\n",
    "    p1 = p - 1\n",
    "    r1 = r.inverse_mod(p1)\n",
    "    return (message - aT*x)*r1%(p1)\n",
    "\n",
    "p = 3120653\n",
    "g = 2\n",
    "bT = 224822\n",
    "h_bin = '0000101111'\n",
    "h = sage.rings.integer.Integer(int(h_bin,2))\n",
    "k = 222323\n",
    "\n",
    "aT = get_aT(g, bT, p)\n",
    "x = get_x(g, k, p)\n",
    "print('x: %s' % x)\n",
    "y = get_y(h, aT, x, k, p)\n",
    "print('y: %s' % y)"
   ]
  }
 ],
 "metadata": {
  "kernelspec": {
   "display_name": "SageMath 8.1",
   "language": "",
   "name": "sagemath"
  },
  "language_info": {
   "codemirror_mode": {
    "name": "ipython",
    "version": 2
   },
   "file_extension": ".py",
   "mimetype": "text/x-python",
   "name": "python",
   "nbconvert_exporter": "python",
   "pygments_lexer": "ipython2",
   "version": "2.7.14"
  }
 },
 "nbformat": 4,
 "nbformat_minor": 2
}
