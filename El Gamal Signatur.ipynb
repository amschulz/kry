{
 "cells": [
  {
   "cell_type": "code",
   "execution_count": 1,
   "metadata": {
    "collapsed": false,
    "deletable": true,
    "editable": true
   },
   "outputs": [
    {
     "name": "stdout",
     "output_type": "stream",
     "text": [
      "bT: 128\n",
      "blumblumshub - s: [3, 9, 81, 236, 36, 31]\n",
      "blumblumshub - z: [1, 1, 1, 0, 0, 1]\n",
      "r: 57\n",
      "x: 183\n",
      "y: 97\n",
      "Signatur: (01011010, 183, 97)\n"
     ]
    }
   ],
   "source": [
    "def get_bT(aT, g, p):\n",
    "    return g.powermod(aT, p)\n",
    "\n",
    "def get_x(g, r, p):\n",
    "    return g.powermod(r, p)\n",
    "\n",
    "def get_y(message, aT, x, r, p):\n",
    "    p1 = p - 1\n",
    "    r1 = r.inverse_mod(p1)\n",
    "    return (message - aT*x)*r1%(p1)\n",
    "\n",
    "def blumblumshub_bin():\n",
    "    q = 11\n",
    "    p = 23\n",
    "    n = p*q\n",
    "    s0 = 16\n",
    "    s = []\n",
    "    z = []\n",
    "    bits = 6\n",
    "    \n",
    "    \n",
    "    for i in range(bits):\n",
    "        if len(s) == 0:\n",
    "            val = s0\n",
    "        else:\n",
    "            val = s[i - 1]\n",
    "        s.append(val.powermod(2, n))\n",
    "        z.append(s[i]%2)\n",
    "    print('blumblumshub - s: %s' % s)\n",
    "    print('blumblumshub - z: %s' % z)\n",
    "    return z\n",
    "\n",
    "def blumblumshub_dez():\n",
    "    rbin = blumblumshub_bin()\n",
    "    rdez = int(\"\".join(str(x) for x in rbin),2)\n",
    "    return sage.rings.integer.Integer(rdez)\n",
    "\n",
    "p = 281\n",
    "g = 2\n",
    "aT = 7\n",
    "message_bin = '01011010'\n",
    "\n",
    "bT = get_bT(aT, g, p)\n",
    "print('bT: %s' % bT)\n",
    "r = blumblumshub_dez()\n",
    "print('r: %s' % r)\n",
    "x = get_x(g, r, p)\n",
    "print('x: %s' % x)\n",
    "message = sage.rings.integer.Integer(int(message_bin,2))\n",
    "y = get_y(message, aT, x, r, p)\n",
    "print('y: %s' % y)\n",
    "print('Signatur: (%s, %s, %s)' % (message_bin, x, y))"
   ]
  },
  {
   "cell_type": "code",
   "execution_count": 2,
   "metadata": {
    "collapsed": false,
    "deletable": true,
    "editable": true
   },
   "outputs": [
    {
     "name": "stdout",
     "output_type": "stream",
     "text": [
      "Signatur (90, 183, 97) gültig: True\n"
     ]
    }
   ],
   "source": [
    "message_bin =  '01011010'\n",
    "message = sage.rings.integer.Integer(int(message_bin,2))\n",
    "x = 183\n",
    "y = 97\n",
    "bT = 128\n",
    "\n",
    "def verify(message, x, y, bT):\n",
    "    val1 = ((bT^x)  * (x^y)) % p\n",
    "    val2 = g.powermod(message, p)\n",
    "    return val1 == val2\n",
    "print('Signatur (%s, %s, %s) gültig: %s' % (message, x, y, verify(message, x, y, bT)))"
   ]
  }
 ],
 "metadata": {
  "kernelspec": {
   "display_name": "SageMath 8.1",
   "language": "",
   "name": "sagemath"
  },
  "language_info": {
   "codemirror_mode": {
    "name": "ipython",
    "version": 2
   },
   "file_extension": ".py",
   "mimetype": "text/x-python",
   "name": "python",
   "nbconvert_exporter": "python",
   "pygments_lexer": "ipython2",
   "version": "2.7.14"
  }
 },
 "nbformat": 4,
 "nbformat_minor": 2
}
