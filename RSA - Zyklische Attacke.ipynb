{
 "cells": [
  {
   "cell_type": "code",
   "execution_count": null,
   "metadata": {
    "collapsed": false,
    "deletable": true,
    "editable": true
   },
   "outputs": [],
   "source": [
    "n=99407207\n",
    "e=31\n",
    "c=74457395\n",
    "cc = c.powermod(e,n)\n",
    "prev = cc\n",
    "k=1\n",
    "\n",
    "while cc != c:\n",
    "    prev = cc\n",
    "    cc = cc.powermod(e,n)\n",
    "    k  = k+1\n",
    "print(\"cycle len: \", k)\n",
    "print(\"message plain: \", prev)"
   ]
  }
 ],
 "metadata": {
  "kernelspec": {
   "display_name": "SageMath 8.1",
   "language": "",
   "name": "sagemath"
  },
  "language_info": {
   "codemirror_mode": {
    "name": "ipython",
    "version": 2
   },
   "file_extension": ".py",
   "mimetype": "text/x-python",
   "name": "python",
   "nbconvert_exporter": "python",
   "pygments_lexer": "ipython2",
   "version": "2.7.14"
  }
 },
 "nbformat": 4,
 "nbformat_minor": 2
}
