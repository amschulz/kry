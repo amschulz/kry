{
 "cells": [
  {
   "cell_type": "code",
   "execution_count": 7,
   "metadata": {
    "collapsed": false,
    "deletable": true,
    "editable": true
   },
   "outputs": [
    {
     "name": "stdout",
     "output_type": "stream",
     "text": [
      "x: 1371737997260631\n",
      "m: 111111\n"
     ]
    }
   ],
   "source": [
    "e = 3\n",
    "c1 = 44041775814\n",
    "c2 = 8980477226\n",
    "c3 = 26596370077\n",
    "n1 = 50651525257\n",
    "n2 = 50701497571\n",
    "n3 = 50762763707\n",
    "\n",
    "x = crt([c1, c2, c3], [n1, n2, n3])\n",
    "print('x: %s' % x)\n",
    "m = x.nth_root(e)\n",
    "print('m: %s' % m)"
   ]
  }
 ],
 "metadata": {
  "kernelspec": {
   "display_name": "SageMath 8.1",
   "language": "",
   "name": "sagemath"
  },
  "language_info": {
   "codemirror_mode": {
    "name": "ipython",
    "version": 2
   },
   "file_extension": ".py",
   "mimetype": "text/x-python",
   "name": "python",
   "nbconvert_exporter": "python",
   "pygments_lexer": "ipython2",
   "version": "2.7.14"
  }
 },
 "nbformat": 4,
 "nbformat_minor": 2
}
