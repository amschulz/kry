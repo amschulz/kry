{
 "cells": [
  {
   "cell_type": "code",
   "execution_count": 9,
   "metadata": {
    "collapsed": false,
    "deletable": true,
    "editable": true
   },
   "outputs": [
    {
     "ename": "ValueError",
     "evalue": "1079 is not a 1051st power",
     "output_type": "error",
     "traceback": [
      "\u001b[0;31m---------------------------------------------------------------------------\u001b[0m",
      "\u001b[0;31mValueError\u001b[0m                                Traceback (most recent call last)",
      "\u001b[0;32m<ipython-input-9-c4c74dc8cc57>\u001b[0m in \u001b[0;36m<module>\u001b[0;34m()\u001b[0m\n\u001b[1;32m     29\u001b[0m \u001b[0mrandom_prime\u001b[0m\u001b[0;34m(\u001b[0m\u001b[0ma\u001b[0m\u001b[0;34m,\u001b[0m \u001b[0mproof\u001b[0m\u001b[0;34m=\u001b[0m\u001b[0mNone\u001b[0m\u001b[0;34m,\u001b[0m \u001b[0mlbound\u001b[0m\u001b[0;34m=\u001b[0m\u001b[0mInteger\u001b[0m\u001b[0;34m(\u001b[0m\u001b[0;36m2\u001b[0m\u001b[0;34m)\u001b[0m\u001b[0;34m)\u001b[0m \u001b[0;31m# Findet random Primzahl zsichen Ibound und a\u001b[0m\u001b[0;34m\u001b[0m\u001b[0m\n\u001b[1;32m     30\u001b[0m \u001b[0meuler_phi\u001b[0m\u001b[0;34m(\u001b[0m\u001b[0ma\u001b[0m\u001b[0;34m)\u001b[0m \u001b[0;31m# findet phi von a\u001b[0m\u001b[0;34m\u001b[0m\u001b[0m\n\u001b[0;32m---> 31\u001b[0;31m \u001b[0mb\u001b[0m\u001b[0;34m.\u001b[0m\u001b[0mnth_root\u001b[0m\u001b[0;34m(\u001b[0m\u001b[0ma\u001b[0m\u001b[0;34m)\u001b[0m \u001b[0;31m# Findet b-te Wurzel von a\u001b[0m\u001b[0;34m\u001b[0m\u001b[0m\n\u001b[0m",
      "\u001b[0;32m/opt/sagemath-8.1/src/sage/rings/integer.pyx\u001b[0m in \u001b[0;36msage.rings.integer.Integer.nth_root (build/cythonized/sage/rings/integer.c:14770)\u001b[0;34m()\u001b[0m\n\u001b[1;32m   2187\u001b[0m                 \u001b[0;32mreturn\u001b[0m \u001b[0mx\u001b[0m\u001b[0;34m\u001b[0m\u001b[0m\n\u001b[1;32m   2188\u001b[0m             \u001b[0;32melse\u001b[0m\u001b[0;34m:\u001b[0m\u001b[0;34m\u001b[0m\u001b[0m\n\u001b[0;32m-> 2189\u001b[0;31m                 raise ValueError(\"%s is not a %s power\" % (self,\n\u001b[0m\u001b[1;32m   2190\u001b[0m                                                            integer_ring.ZZ(n).ordinal_str()))\n\u001b[1;32m   2191\u001b[0m \u001b[0;34m\u001b[0m\u001b[0m\n",
      "\u001b[0;31mValueError\u001b[0m: 1079 is not a 1051st power"
     ]
    }
   ],
   "source": [
    "# Befehle\n",
    "a= 1051\n",
    "b= 1079\n",
    "c = 10000\n",
    "d = 4003\n",
    "term = x^2 + 4*x\n",
    "a//b # Wie oft b ganzzahlig in a passt\n",
    "a%b # Der Rest von a//b\n",
    "(term).simplify_full() # term vereinfachen\n",
    "(term).expand() # term ausmultiplizieren\n",
    "(term).factor() # term faktorisieren\n",
    "a.factorial() #a! \n",
    "\n",
    "prime_range(a, b) # Primzahlen zwischen a & b\n",
    "next_prime(a) # nächst grössere Primzahl nach a\n",
    "previous_prime(a) # nächst kleinere Primzahl nach a\n",
    "factor(a) # Zerlegung in Primfaktoren\n",
    "divisors(a) # Alle Teiler einer Zahl angeben\n",
    "\n",
    "a.powermod(b,c) # a^b mod c\n",
    "a in Primes() # Prüft ob a eine Primzahl ist\n",
    "gcd(a,b) # ggT von a und b\n",
    "xgcd(a,b) # res[0] (ggT) = res[1]*a + res[2]*b\n",
    "lcm(a,b) # kgV von a und b\n",
    "next_probable_prime(a) # nächst grössere Primzahl nach a\n",
    "a.inverse_mod(b) # Findet inverses Element von a in Z_b\n",
    "crt(a, b, c, d) # löst chinesischen Restsatz: findet x welches konruent ist zu a mod c und b mod d -> x == a mod c und x == b mod d \n",
    "a.is_prime() # Prüft ob es eine Primzahl ist\n",
    "random_prime(a, proof=None, lbound=2) # Findet random Primzahl zsichen Ibound und a\n",
    "euler_phi(a) # findet phi von a \n",
    "b.nth_root(a) # Findet b-te Wurzel von a \n"
   ]
  }
 ],
 "metadata": {
  "kernelspec": {
   "display_name": "SageMath 8.1",
   "language": "",
   "name": "sagemath"
  },
  "language_info": {
   "codemirror_mode": {
    "name": "ipython",
    "version": 2
   },
   "file_extension": ".py",
   "mimetype": "text/x-python",
   "name": "python",
   "nbconvert_exporter": "python",
   "pygments_lexer": "ipython2",
   "version": "2.7.14"
  }
 },
 "nbformat": 4,
 "nbformat_minor": 2
}
